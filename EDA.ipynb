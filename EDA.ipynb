{
 "cells": [
  {
   "cell_type": "markdown",
   "metadata": {},
   "source": [
    "# Introductions"
   ]
  },
  {
   "cell_type": "markdown",
   "metadata": {},
   "source": [
    "Using tools from the [Bosch Small Traffic Lights Dataset](https://hci.iwr.uni-heidelberg.de/node/6132)."
   ]
  },
  {
   "cell_type": "markdown",
   "metadata": {},
   "source": [
    "# Modules"
   ]
  },
  {
   "cell_type": "code",
   "execution_count": null,
   "metadata": {
    "collapsed": true
   },
   "outputs": [],
   "source": [
    "import sys\n",
    "sys.path.append(\"./bstld\")"
   ]
  },
  {
   "cell_type": "code",
   "execution_count": 14,
   "metadata": {
    "collapsed": true
   },
   "outputs": [],
   "source": [
    "import os\n",
    "\n",
    "import bstld\n",
    "from bstld.dataset_stats import quick_stats "
   ]
  },
  {
   "cell_type": "code",
   "execution_count": 6,
   "metadata": {},
   "outputs": [
    {
     "name": "stdout",
     "output_type": "stream",
     "text": [
      "['', '/usr/lib/python35.zip', '/usr/lib/python3.5', '/usr/lib/python3.5/plat-x86_64-linux-gnu', '/usr/lib/python3.5/lib-dynload', '/usr/local/lib/python3.5/dist-packages', '/usr/lib/python3/dist-packages', '/usr/local/lib/python3.5/dist-packages/IPython/extensions', '/root/.ipython', './bstld']\n"
     ]
    }
   ],
   "source": [
    "print(sys.path)"
   ]
  },
  {
   "cell_type": "markdown",
   "metadata": {},
   "source": [
    "# Module Constants"
   ]
  },
  {
   "cell_type": "code",
   "execution_count": 12,
   "metadata": {
    "collapsed": true
   },
   "outputs": [],
   "source": [
    "BOSCH_DATASET_DIR = \"data/bosch_dataset\""
   ]
  },
  {
   "cell_type": "markdown",
   "metadata": {},
   "source": [
    "# Tests datas"
   ]
  },
  {
   "cell_type": "code",
   "execution_count": 15,
   "metadata": {},
   "outputs": [
    {
     "name": "stdout",
     "output_type": "stream",
     "text": [
      "data/bosch_dataset/train.yaml\n"
     ]
    }
   ],
   "source": [
    "_train_path = os.path.join(BOSCH_DATASET_DIR, \"train.yaml\")\n",
    "print(_train_path)"
   ]
  },
  {
   "cell_type": "code",
   "execution_count": 16,
   "metadata": {},
   "outputs": [
    {
     "name": "stdout",
     "output_type": "stream",
     "text": [
      "Number of images: 5093\n",
      "Number of traffic lights: 10756 \n",
      "\n",
      "Minimum width: 1.1224768885000458\n",
      "Average width: 11.175106667325696\n",
      "median width: 8.55396570789992\n",
      "maximum width: 98.0 \n",
      "\n",
      "Minimum height: 0.24943930860001728\n",
      "Average height: 24.323216404050356\n",
      "median height: 18.925365134599986\n",
      "maximum height: 207.0 \n",
      "\n",
      "Minimum size: 0.2799898589869501\n",
      "Average size: 404.5161008940251\n",
      "median size: 158.80036482309796\n",
      "maximum size: 20286.0 \n",
      "\n",
      "Labels:\n",
      "\tYellow: 444\n",
      "\tGreenRight: 13\n",
      "\tRedRight: 5\n",
      "\tGreenStraightRight: 3\n",
      "\tRedStraightLeft: 1\n",
      "\tRedStraight: 9\n",
      "\toccluded: 170\n",
      "\tRedLeft: 1092\n",
      "\toff: 726\n",
      "\tGreen: 5207\n",
      "\tGreenStraightLeft: 1\n",
      "\tGreenLeft: 178\n",
      "\tGreenStraight: 20\n",
      "\tRed: 3057\n"
     ]
    }
   ],
   "source": [
    "quick_stats(_train_path)"
   ]
  },
  {
   "cell_type": "code",
   "execution_count": null,
   "metadata": {
    "collapsed": true
   },
   "outputs": [],
   "source": []
  }
 ],
 "metadata": {
  "kernelspec": {
   "display_name": "Python 3",
   "language": "python",
   "name": "python3"
  },
  "language_info": {
   "codemirror_mode": {
    "name": "ipython",
    "version": 3
   },
   "file_extension": ".py",
   "mimetype": "text/x-python",
   "name": "python",
   "nbconvert_exporter": "python",
   "pygments_lexer": "ipython3",
   "version": "3.5.2"
  },
  "toc": {
   "base_numbering": 1,
   "nav_menu": {},
   "number_sections": true,
   "sideBar": true,
   "skip_h1_title": false,
   "title_cell": "Table of Contents",
   "title_sidebar": "Contents",
   "toc_cell": false,
   "toc_position": {
    "height": "calc(100% - 180px)",
    "left": "10px",
    "top": "150px",
    "width": "165px"
   },
   "toc_section_display": true,
   "toc_window_display": true
  }
 },
 "nbformat": 4,
 "nbformat_minor": 2
}
